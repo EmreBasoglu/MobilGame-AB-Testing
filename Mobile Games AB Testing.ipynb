{
 "cells": [
  {
   "cell_type": "markdown",
   "id": "9cb68fe9-8b74-47bb-9dbc-45ce3ff7e651",
   "metadata": {},
   "source": [
    "#### Project Description\n",
    "\n",
    "Cookie Cats is a hugely popular mobile puzzle game developed by Tactile Entertainment. In this classic \"match-three\" style puzzle, players must combine tiles of the same color to clear the board and win the level. There are also singing cats in the game, that's for sure!\n",
    "\n",
    "As players progress through the game, they encounter doors that block progress in some levels. These doors require players to wait a while or make in-app purchases in order to continue. In this project, we will analyze the impact of moving the first door from level 30 to 40 in Cookie Cats with an A/B test. Specifically, we will examine the effects of this change on player engagement. "
   ]
  },
  {
   "cell_type": "markdown",
   "id": "ed416c22-05f1-44fa-a612-d50f4a21cbf5",
   "metadata": {},
   "source": [
    "#### Data Description\n",
    "The data is from 90,189 players that installed the game while the AB-test was running. The variables are:\n",
    "\n",
    "userid - a unique number that identifies each player.\n",
    "version - whether the player was put in the control group (gate_30 - a gate at level 30) or the test group (gate_40 - a gate at level 40).\n",
    "sum_gamerounds - the number of game rounds played by the player during the first week after installation\n",
    "retention_1 - did the player come back and play 1 day after installing?\n",
    "retention_7 - did the player come back and play 7 days after installing?\n",
    "When a player installed the game, he or she was randomly assigned to either gate_30 or gate_40."
   ]
  },
  {
   "cell_type": "code",
   "execution_count": 1,
   "id": "99e209de-bf2c-4c31-9773-9d97f20a43a8",
   "metadata": {
    "tags": []
   },
   "outputs": [],
   "source": [
    "import itertools\n",
    "import numpy as np\n",
    "import pandas as pd\n",
    "import matplotlib.pyplot as plt\n",
    "import seaborn as sns\n",
    "# !pip install statsmodels\n",
    "import statsmodels.stats.api as sms\n",
    "from scipy.stats import ttest_1samp, shapiro, levene, ttest_ind, mannwhitneyu, \\\n",
    "    pearsonr, spearmanr, kendalltau, f_oneway, kruskal, kstest, ks_2samp\n",
    "from statsmodels.stats.proportion import proportions_ztest\n",
    "\n",
    "pd.set_option('display.max_columns', None)\n",
    "pd.set_option('display.max_rows', 20)\n",
    "pd.set_option('display.float_format', lambda x: '%.5f' % x)\n",
    "pd.set_option('display.width', 500)"
   ]
  },
  {
   "cell_type": "code",
   "execution_count": 2,
   "id": "627f942b-15e9-43f0-b3f0-ebfa7e9ba1c3",
   "metadata": {
    "tags": []
   },
   "outputs": [],
   "source": [
    "mb = pd.read_csv(\"C:/Users/GHOST-V3/EMRE/Github için proje/Mobile Games AB Testing/cookie_cats.csv\")"
   ]
  },
  {
   "cell_type": "code",
   "execution_count": 3,
   "id": "88b0c7f2-cf02-4a05-8465-dcfcd4ec5ee6",
   "metadata": {
    "tags": []
   },
   "outputs": [
    {
     "name": "stdout",
     "output_type": "stream",
     "text": [
      "##################### Shape #####################\n",
      "(90189, 5)\n",
      "\n",
      "##################### Types #####################\n",
      "userid             int64\n",
      "version           object\n",
      "sum_gamerounds     int64\n",
      "retention_1         bool\n",
      "retention_7         bool\n",
      "dtype: object\n",
      "\n",
      "##################### Head #####################\n"
     ]
    },
    {
     "data": {
      "text/html": [
       "<div>\n",
       "<style scoped>\n",
       "    .dataframe tbody tr th:only-of-type {\n",
       "        vertical-align: middle;\n",
       "    }\n",
       "\n",
       "    .dataframe tbody tr th {\n",
       "        vertical-align: top;\n",
       "    }\n",
       "\n",
       "    .dataframe thead th {\n",
       "        text-align: right;\n",
       "    }\n",
       "</style>\n",
       "<table border=\"1\" class=\"dataframe\">\n",
       "  <thead>\n",
       "    <tr style=\"text-align: right;\">\n",
       "      <th></th>\n",
       "      <th>userid</th>\n",
       "      <th>version</th>\n",
       "      <th>sum_gamerounds</th>\n",
       "      <th>retention_1</th>\n",
       "      <th>retention_7</th>\n",
       "    </tr>\n",
       "  </thead>\n",
       "  <tbody>\n",
       "    <tr>\n",
       "      <th>0</th>\n",
       "      <td>116</td>\n",
       "      <td>gate_30</td>\n",
       "      <td>3</td>\n",
       "      <td>False</td>\n",
       "      <td>False</td>\n",
       "    </tr>\n",
       "    <tr>\n",
       "      <th>1</th>\n",
       "      <td>337</td>\n",
       "      <td>gate_30</td>\n",
       "      <td>38</td>\n",
       "      <td>True</td>\n",
       "      <td>False</td>\n",
       "    </tr>\n",
       "    <tr>\n",
       "      <th>2</th>\n",
       "      <td>377</td>\n",
       "      <td>gate_40</td>\n",
       "      <td>165</td>\n",
       "      <td>True</td>\n",
       "      <td>False</td>\n",
       "    </tr>\n",
       "    <tr>\n",
       "      <th>3</th>\n",
       "      <td>483</td>\n",
       "      <td>gate_40</td>\n",
       "      <td>1</td>\n",
       "      <td>False</td>\n",
       "      <td>False</td>\n",
       "    </tr>\n",
       "    <tr>\n",
       "      <th>4</th>\n",
       "      <td>488</td>\n",
       "      <td>gate_40</td>\n",
       "      <td>179</td>\n",
       "      <td>True</td>\n",
       "      <td>True</td>\n",
       "    </tr>\n",
       "  </tbody>\n",
       "</table>\n",
       "</div>"
      ],
      "text/plain": [
       "   userid  version  sum_gamerounds  retention_1  retention_7\n",
       "0     116  gate_30               3        False        False\n",
       "1     337  gate_30              38         True        False\n",
       "2     377  gate_40             165         True        False\n",
       "3     483  gate_40               1        False        False\n",
       "4     488  gate_40             179         True         True"
      ]
     },
     "metadata": {},
     "output_type": "display_data"
    },
    {
     "name": "stdout",
     "output_type": "stream",
     "text": [
      "\n",
      "##################### Tail #####################\n"
     ]
    },
    {
     "data": {
      "text/html": [
       "<div>\n",
       "<style scoped>\n",
       "    .dataframe tbody tr th:only-of-type {\n",
       "        vertical-align: middle;\n",
       "    }\n",
       "\n",
       "    .dataframe tbody tr th {\n",
       "        vertical-align: top;\n",
       "    }\n",
       "\n",
       "    .dataframe thead th {\n",
       "        text-align: right;\n",
       "    }\n",
       "</style>\n",
       "<table border=\"1\" class=\"dataframe\">\n",
       "  <thead>\n",
       "    <tr style=\"text-align: right;\">\n",
       "      <th></th>\n",
       "      <th>userid</th>\n",
       "      <th>version</th>\n",
       "      <th>sum_gamerounds</th>\n",
       "      <th>retention_1</th>\n",
       "      <th>retention_7</th>\n",
       "    </tr>\n",
       "  </thead>\n",
       "  <tbody>\n",
       "    <tr>\n",
       "      <th>90184</th>\n",
       "      <td>9999441</td>\n",
       "      <td>gate_40</td>\n",
       "      <td>97</td>\n",
       "      <td>True</td>\n",
       "      <td>False</td>\n",
       "    </tr>\n",
       "    <tr>\n",
       "      <th>90185</th>\n",
       "      <td>9999479</td>\n",
       "      <td>gate_40</td>\n",
       "      <td>30</td>\n",
       "      <td>False</td>\n",
       "      <td>False</td>\n",
       "    </tr>\n",
       "    <tr>\n",
       "      <th>90186</th>\n",
       "      <td>9999710</td>\n",
       "      <td>gate_30</td>\n",
       "      <td>28</td>\n",
       "      <td>True</td>\n",
       "      <td>False</td>\n",
       "    </tr>\n",
       "    <tr>\n",
       "      <th>90187</th>\n",
       "      <td>9999768</td>\n",
       "      <td>gate_40</td>\n",
       "      <td>51</td>\n",
       "      <td>True</td>\n",
       "      <td>False</td>\n",
       "    </tr>\n",
       "    <tr>\n",
       "      <th>90188</th>\n",
       "      <td>9999861</td>\n",
       "      <td>gate_40</td>\n",
       "      <td>16</td>\n",
       "      <td>False</td>\n",
       "      <td>False</td>\n",
       "    </tr>\n",
       "  </tbody>\n",
       "</table>\n",
       "</div>"
      ],
      "text/plain": [
       "        userid  version  sum_gamerounds  retention_1  retention_7\n",
       "90184  9999441  gate_40              97         True        False\n",
       "90185  9999479  gate_40              30        False        False\n",
       "90186  9999710  gate_30              28         True        False\n",
       "90187  9999768  gate_40              51         True        False\n",
       "90188  9999861  gate_40              16        False        False"
      ]
     },
     "metadata": {},
     "output_type": "display_data"
    },
    {
     "name": "stdout",
     "output_type": "stream",
     "text": [
      "\n",
      "##################### NA #####################\n"
     ]
    },
    {
     "data": {
      "text/html": [
       "<div>\n",
       "<style scoped>\n",
       "    .dataframe tbody tr th:only-of-type {\n",
       "        vertical-align: middle;\n",
       "    }\n",
       "\n",
       "    .dataframe tbody tr th {\n",
       "        vertical-align: top;\n",
       "    }\n",
       "\n",
       "    .dataframe thead th {\n",
       "        text-align: right;\n",
       "    }\n",
       "</style>\n",
       "<table border=\"1\" class=\"dataframe\">\n",
       "  <thead>\n",
       "    <tr style=\"text-align: right;\">\n",
       "      <th></th>\n",
       "      <th>Column</th>\n",
       "      <th>Number of NA</th>\n",
       "    </tr>\n",
       "  </thead>\n",
       "  <tbody>\n",
       "  </tbody>\n",
       "</table>\n",
       "</div>"
      ],
      "text/plain": [
       "Empty DataFrame\n",
       "Columns: [Column, Number of NA]\n",
       "Index: []"
      ]
     },
     "metadata": {},
     "output_type": "display_data"
    },
    {
     "name": "stdout",
     "output_type": "stream",
     "text": [
      "\n",
      "##################### Quantiles #####################\n"
     ]
    },
    {
     "data": {
      "text/html": [
       "<div>\n",
       "<style scoped>\n",
       "    .dataframe tbody tr th:only-of-type {\n",
       "        vertical-align: middle;\n",
       "    }\n",
       "\n",
       "    .dataframe tbody tr th {\n",
       "        vertical-align: top;\n",
       "    }\n",
       "\n",
       "    .dataframe thead th {\n",
       "        text-align: right;\n",
       "    }\n",
       "</style>\n",
       "<table border=\"1\" class=\"dataframe\">\n",
       "  <thead>\n",
       "    <tr style=\"text-align: right;\">\n",
       "      <th></th>\n",
       "      <th>count</th>\n",
       "      <th>mean</th>\n",
       "      <th>std</th>\n",
       "      <th>min</th>\n",
       "      <th>0%</th>\n",
       "      <th>5%</th>\n",
       "      <th>50%</th>\n",
       "      <th>95%</th>\n",
       "      <th>99%</th>\n",
       "      <th>100%</th>\n",
       "      <th>max</th>\n",
       "    </tr>\n",
       "  </thead>\n",
       "  <tbody>\n",
       "    <tr>\n",
       "      <th>userid</th>\n",
       "      <td>90189.00000</td>\n",
       "      <td>4998412.23450</td>\n",
       "      <td>2883285.60770</td>\n",
       "      <td>116.00000</td>\n",
       "      <td>116.00000</td>\n",
       "      <td>502935.00000</td>\n",
       "      <td>4995815.00000</td>\n",
       "      <td>9492761.60000</td>\n",
       "      <td>9899751.28000</td>\n",
       "      <td>9999861.00000</td>\n",
       "      <td>9999861.00000</td>\n",
       "    </tr>\n",
       "    <tr>\n",
       "      <th>sum_gamerounds</th>\n",
       "      <td>90189.00000</td>\n",
       "      <td>51.87246</td>\n",
       "      <td>195.05086</td>\n",
       "      <td>0.00000</td>\n",
       "      <td>0.00000</td>\n",
       "      <td>1.00000</td>\n",
       "      <td>16.00000</td>\n",
       "      <td>221.00000</td>\n",
       "      <td>493.00000</td>\n",
       "      <td>49854.00000</td>\n",
       "      <td>49854.00000</td>\n",
       "    </tr>\n",
       "  </tbody>\n",
       "</table>\n",
       "</div>"
      ],
      "text/plain": [
       "                     count          mean           std       min        0%           5%           50%           95%           99%          100%           max\n",
       "userid         90189.00000 4998412.23450 2883285.60770 116.00000 116.00000 502935.00000 4995815.00000 9492761.60000 9899751.28000 9999861.00000 9999861.00000\n",
       "sum_gamerounds 90189.00000      51.87246     195.05086   0.00000   0.00000      1.00000      16.00000     221.00000     493.00000   49854.00000   49854.00000"
      ]
     },
     "metadata": {},
     "output_type": "display_data"
    },
    {
     "name": "stdout",
     "output_type": "stream",
     "text": [
      "\n"
     ]
    }
   ],
   "source": [
    "def check_df(dataframe, head=5):\n",
    "    \n",
    "    print(\"##################### Shape #####################\")\n",
    "    print(dataframe.shape)\n",
    "    print()\n",
    "    \n",
    "    \n",
    "    print(\"##################### Types #####################\")\n",
    "    print(dataframe.dtypes)\n",
    "    print()\n",
    "    \n",
    "   \n",
    "    print(\"##################### Head #####################\")\n",
    "    display(dataframe.head(head))  \n",
    "    print()\n",
    "    \n",
    "    \n",
    "    print(\"##################### Tail #####################\")\n",
    "    display(dataframe.tail(head))  \n",
    "    print()\n",
    "    \n",
    "    \n",
    "    print(\"##################### NA #####################\")\n",
    "    na_counts = dataframe.isnull().sum()\n",
    "    display(na_counts[na_counts > 0].reset_index().rename(columns={0: 'Number of NA', 'index': 'Column'}))\n",
    "    print()\n",
    "    \n",
    "    \n",
    "    print(\"##################### Quantiles #####################\")\n",
    "    quantiles = dataframe.describe([0, 0.05, 0.50, 0.95, 0.99, 1]).T\n",
    "    display(quantiles)\n",
    "    print()\n",
    "\n",
    "check_df(mb)"
   ]
  },
  {
   "cell_type": "code",
   "execution_count": 4,
   "id": "ef4f7d1f-9e14-4a4e-8fbd-2ac24287a05a",
   "metadata": {
    "tags": []
   },
   "outputs": [
    {
     "data": {
      "image/png": "[encoded data removed]",
      "text/plain": [
       "<Figure size 1500x500 with 3 Axes>"
      ]
     },
     "metadata": {},
     "output_type": "display_data"
    }
   ],
   "source": [
    "colors = ['#1f77b4', '#ff7f0e', '#2ca02c']  \n",
    "\n",
    "fig, axes = plt.subplots(1, 3, figsize=(15, 5))  \n",
    "\n",
    "mb['sum_gamerounds'].plot.box(ax=axes[0], color=colors[0])\n",
    "axes[0].set_title('Overall')\n",
    "\n",
    "mb.loc[mb[\"version\"] == \"gate_30\", 'sum_gamerounds'].plot.box(ax=axes[1], color=colors[1])\n",
    "axes[1].set_title('Version: gate_30')\n",
    "\n",
    "mb.loc[mb[\"version\"] == \"gate_40\", 'sum_gamerounds'].plot.box(ax=axes[2], color=colors[2])\n",
    "axes[2].set_title('Version: gate_40')\n",
    "\n",
    "plt.tight_layout()\n",
    "plt.show()"
   ]
  },
  {
   "cell_type": "code",
   "execution_count": 5,
   "id": "70cb10db-ef04-430e-b354-e67979eb85b6",
   "metadata": {
    "tags": []
   },
   "outputs": [
    {
     "data": {
      "image/png": "[encoded data removed]",
      "text/plain": [
       "<Figure size 1000x600 with 1 Axes>"
      ]
     },
     "metadata": {},
     "output_type": "display_data"
    }
   ],
   "source": [
    "sns.set_palette('husl')\n",
    "\n",
    "plt.figure(figsize=(10, 6))\n",
    "plt.hist(mb['sum_gamerounds'], bins=50, range=(0, 500), color=sns.color_palette()[0], edgecolor='black')\n",
    "plt.title('Distribution of Game Rounds Played')\n",
    "plt.xlabel('Number of Game Rounds')\n",
    "plt.ylabel('Frequency')\n",
    "plt.grid(True)\n",
    "plt.show()"
   ]
  },
  {
   "cell_type": "markdown",
   "id": "fd4c2f04-51d1-4aac-a9a3-edd8696d5eb7",
   "metadata": {},
   "source": [
    "###### \n",
    "On the left side of the chart, the high bars indicate that there are a large number of players who played fewer than 50 rounds of play in the first week. Moving to the right side, the bars decrease in height, suggesting that the number of players drops off sharply as the number of rounds of play increases. The distribution has a long tail, indicating that there are a few players who played more than 200 or 300 rounds of play."
   ]
  },
  {
   "cell_type": "code",
   "execution_count": 6,
   "id": "0d3f7ffb-5e50-457e-817f-c9f61858fa6b",
   "metadata": {
    "tags": []
   },
   "outputs": [
    {
     "data": {
      "text/html": [
       "<div>\n",
       "<style scoped>\n",
       "    .dataframe tbody tr th:only-of-type {\n",
       "        vertical-align: middle;\n",
       "    }\n",
       "\n",
       "    .dataframe tbody tr th {\n",
       "        vertical-align: top;\n",
       "    }\n",
       "\n",
       "    .dataframe thead th {\n",
       "        text-align: right;\n",
       "    }\n",
       "</style>\n",
       "<table border=\"1\" class=\"dataframe\">\n",
       "  <thead>\n",
       "    <tr style=\"text-align: right;\">\n",
       "      <th></th>\n",
       "      <th>version</th>\n",
       "      <th>retention_1_rate</th>\n",
       "      <th>retention_7_rate</th>\n",
       "    </tr>\n",
       "  </thead>\n",
       "  <tbody>\n",
       "    <tr>\n",
       "      <th>0</th>\n",
       "      <td>gate_30</td>\n",
       "      <td>0.44819</td>\n",
       "      <td>0.19020</td>\n",
       "    </tr>\n",
       "    <tr>\n",
       "      <th>1</th>\n",
       "      <td>gate_40</td>\n",
       "      <td>0.44228</td>\n",
       "      <td>0.18200</td>\n",
       "    </tr>\n",
       "  </tbody>\n",
       "</table>\n",
       "</div>"
      ],
      "text/plain": [
       "   version  retention_1_rate  retention_7_rate\n",
       "0  gate_30           0.44819           0.19020\n",
       "1  gate_40           0.44228           0.18200"
      ]
     },
     "execution_count": 6,
     "metadata": {},
     "output_type": "execute_result"
    }
   ],
   "source": [
    "retention_rates = mb.groupby('version').agg(\n",
    "    retention_1_rate=pd.NamedAgg(column='retention_1', aggfunc='mean'),\n",
    "    retention_7_rate=pd.NamedAgg(column='retention_7', aggfunc='mean')\n",
    ").reset_index()\n",
    "\n",
    "retention_rates"
   ]
  },
  {
   "cell_type": "markdown",
   "id": "e5c5954a-85bb-4a09-a4ca-d208f6c05d1b",
   "metadata": {},
   "source": [
    "Retention rates for the gate_30 version are slightly higher than those for the gate_40 version on both day 1 and day 7.\n",
    "\n"
   ]
  },
  {
   "cell_type": "code",
   "execution_count": 7,
   "id": "7c705406-e047-4b30-b02a-9abd53e379dc",
   "metadata": {},
   "outputs": [
    {
     "data": {
      "image/png": "[encoded data removed]",
      "text/plain": [
       "<Figure size 1400x600 with 2 Axes>"
      ]
     },
     "metadata": {},
     "output_type": "display_data"
    }
   ],
   "source": [
    "fig, axes = plt.subplots(1, 2, figsize=(14, 6))\n",
    "\n",
    "sns.boxplot(x='retention_1', y='sum_gamerounds', data=mb, ax=axes[0], palette='husl')\n",
    "axes[0].set_title('Game Rounds Played and Day 1 Retention')\n",
    "axes[0].set_xlabel('Day 1 Retention')\n",
    "axes[0].set_ylabel('Number of Game Rounds')\n",
    "axes[0].set_ylim(0, 100)\n",
    "\n",
    "sns.boxplot(x='retention_7', y='sum_gamerounds', data=mb, ax=axes[1], palette='husl')\n",
    "axes[1].set_title('Game Rounds Played and Day 7 Retention')\n",
    "axes[1].set_xlabel('Day 7 Retention')\n",
    "axes[1].set_ylabel('Number of Game Rounds')\n",
    "axes[1].set_ylim(0, 100)\n",
    "\n",
    "plt.tight_layout()\n",
    "plt.show()"
   ]
  },
  {
   "cell_type": "markdown",
   "id": "7de686f2-6ccf-4abe-b10a-e693adced244",
   "metadata": {},
   "source": [
    "Returning players (both day 1 and day 7) generally play more rounds of the game. This may indicate that returning players are enjoying the game more or are more engaged with it. The number of rounds of the game can be an important factor in increasing player retention. This finding suggests that keeping players more engaged and engaged in the game during the later days of the game may increase player loyalty."
   ]
  },
  {
   "cell_type": "code",
   "execution_count": 8,
   "id": "9cde83a9-f391-4b77-9ca2-08a01bd9a3a1",
   "metadata": {
    "tags": []
   },
   "outputs": [
    {
     "data": {
      "text/html": [
       "<div>\n",
       "<style scoped>\n",
       "    .dataframe tbody tr th:only-of-type {\n",
       "        vertical-align: middle;\n",
       "    }\n",
       "\n",
       "    .dataframe tbody tr th {\n",
       "        vertical-align: top;\n",
       "    }\n",
       "\n",
       "    .dataframe thead th {\n",
       "        text-align: right;\n",
       "    }\n",
       "</style>\n",
       "<table border=\"1\" class=\"dataframe\">\n",
       "  <thead>\n",
       "    <tr style=\"text-align: right;\">\n",
       "      <th></th>\n",
       "      <th>sum_gamerounds</th>\n",
       "    </tr>\n",
       "    <tr>\n",
       "      <th>version</th>\n",
       "      <th></th>\n",
       "    </tr>\n",
       "  </thead>\n",
       "  <tbody>\n",
       "    <tr>\n",
       "      <th>gate_30</th>\n",
       "      <td>44700</td>\n",
       "    </tr>\n",
       "    <tr>\n",
       "      <th>gate_40</th>\n",
       "      <td>45489</td>\n",
       "    </tr>\n",
       "  </tbody>\n",
       "</table>\n",
       "</div>"
      ],
      "text/plain": [
       "         sum_gamerounds\n",
       "version                \n",
       "gate_30           44700\n",
       "gate_40           45489"
      ]
     },
     "execution_count": 8,
     "metadata": {},
     "output_type": "execute_result"
    }
   ],
   "source": [
    "mb.groupby(\"version\").agg({\"sum_gamerounds\" : \"count\"})\n"
   ]
  },
  {
   "cell_type": "code",
   "execution_count": 9,
   "id": "86ac25df-d466-4ece-a7c0-fa694ec5fb34",
   "metadata": {
    "tags": []
   },
   "outputs": [
    {
     "data": {
      "text/html": [
       "<div>\n",
       "<style scoped>\n",
       "    .dataframe tbody tr th:only-of-type {\n",
       "        vertical-align: middle;\n",
       "    }\n",
       "\n",
       "    .dataframe tbody tr th {\n",
       "        vertical-align: top;\n",
       "    }\n",
       "\n",
       "    .dataframe thead th {\n",
       "        text-align: right;\n",
       "    }\n",
       "</style>\n",
       "<table border=\"1\" class=\"dataframe\">\n",
       "  <thead>\n",
       "    <tr style=\"text-align: right;\">\n",
       "      <th></th>\n",
       "      <th>sum_gamerounds</th>\n",
       "    </tr>\n",
       "    <tr>\n",
       "      <th>version</th>\n",
       "      <th></th>\n",
       "    </tr>\n",
       "  </thead>\n",
       "  <tbody>\n",
       "    <tr>\n",
       "      <th>gate_30</th>\n",
       "      <td>52.45626</td>\n",
       "    </tr>\n",
       "    <tr>\n",
       "      <th>gate_40</th>\n",
       "      <td>51.29878</td>\n",
       "    </tr>\n",
       "  </tbody>\n",
       "</table>\n",
       "</div>"
      ],
      "text/plain": [
       "         sum_gamerounds\n",
       "version                \n",
       "gate_30        52.45626\n",
       "gate_40        51.29878"
      ]
     },
     "execution_count": 9,
     "metadata": {},
     "output_type": "execute_result"
    }
   ],
   "source": [
    "mb.groupby(\"version\").agg({\"sum_gamerounds\" : \"mean\"})\n"
   ]
  },
  {
   "cell_type": "code",
   "execution_count": 10,
   "id": "13522e6e-8bd0-4279-8a50-487bee7e5591",
   "metadata": {
    "tags": []
   },
   "outputs": [],
   "source": [
    "df_gate_40 = mb[mb['version'] == 'gate_40']\n",
    "df_gate_30 = mb[mb['version'] == 'gate_30']\n",
    "\n",
    "def outlier_thresholds(dataframe, variable):\n",
    "    quartile3 = mb[variable].quantile(0.01)\n",
    "    quartile1 = dataframe[variable].quantile(0.99)\n",
    "    interquantile_range = quartile1 - quartile3\n",
    "    upper_limit = quartile1 + interquantile_range*1.5\n",
    "    lower_limit = quartile3 - interquantile_range*1.5\n",
    "    return upper_limit, lower_limit\n",
    "\n",
    "def replace_with_threshold(dataframe, variable):\n",
    "    upper_limit, lower_limit = outlier_thresholds(dataframe, variable)\n",
    "    dataframe.loc[(dataframe[variable] > upper_limit), variable] = round(upper_limit)\n",
    "    dataframe.loc[(dataframe[variable] < lower_limit), variable] = round(lower_limit)\n",
    "    \n",
    "replace_with_threshold(df_gate_40, \"sum_gamerounds\")\n",
    "replace_with_threshold(df_gate_30, \"sum_gamerounds\")\n",
    "\n",
    "df_new = pd.concat([df_gate_40, df_gate_30], ignore_index=True)"
   ]
  },
  {
   "cell_type": "code",
   "execution_count": 11,
   "id": "82ff97db-90ac-451d-b6b8-8926183c565d",
   "metadata": {
    "tags": []
   },
   "outputs": [
    {
     "data": {
      "image/png": "[encoded data removed]",
      "text/plain": [
       "<Figure size 1500x500 with 3 Axes>"
      ]
     },
     "metadata": {},
     "output_type": "display_data"
    }
   ],
   "source": [
    "fig, axes = plt.subplots(1, 3, figsize=(15, 5))  # Create a figure and subplots\n",
    "\n",
    "df_new['sum_gamerounds'].plot.box(ax=axes[0])\n",
    "axes[0].set_title('Overall')\n",
    "\n",
    "df_new.loc[df_new[\"version\"] == \"gate_30\", 'sum_gamerounds'].plot.box(ax=axes[1])\n",
    "axes[1].set_title('Version: gate_30')\n",
    "\n",
    "df_new.loc[df_new[\"version\"] == \"gate_40\", 'sum_gamerounds'].plot.box(ax=axes[2])\n",
    "axes[2].set_title('Version: gate_40')\n",
    "\n",
    "plt.tight_layout()\n",
    "plt.show()"
   ]
  },
  {
   "cell_type": "markdown",
   "id": "74f03596-3987-4872-b813-6284310b29dc",
   "metadata": {
    "tags": []
   },
   "source": [
    "H0: M1 = M2 (There is no statistically significant difference between the total number of rounds played for Gate_30 and gate_40 player versions)\n",
    "H1: M1 ≠ M2 (There is a statistically significant difference between the total number of rounds played for Gate_30 and gate_40 player versions)"
   ]
  },
  {
   "cell_type": "code",
   "execution_count": 12,
   "id": "28407069-1ae9-4f99-939e-87f63b819140",
   "metadata": {},
   "outputs": [
    {
     "name": "stdout",
     "output_type": "stream",
     "text": [
      "There is no statistically significant difference in sum_gamerounds between gate_30 and gate_40\n",
      "Test Statistic =  1024331740.0000, p-value =  0.0502\n"
     ]
    },
    {
     "name": "stderr",
     "output_type": "stream",
     "text": [
      "C:\\Users\\GHOST-V3\\anaconda3\\Lib\\site-packages\\scipy\\stats\\_morestats.py:1882: UserWarning: p-value may not be accurate for N > 5000.\n",
      "  warnings.warn(\"p-value may not be accurate for N > 5000.\")\n"
     ]
    }
   ],
   "source": [
    "def ab_test(dataframe, group, control, test, target):\n",
    "    # Check for normality\n",
    "    test_stat, pvalue_control = shapiro(dataframe.loc[dataframe[group] == control, target])\n",
    "    test_stat, pvalue_test = shapiro(dataframe.loc[dataframe[group] == test, target])\n",
    "\n",
    "    # If p-value > 0.05, distribution is considered normal\n",
    "    normal_control = pvalue_control > 0.05\n",
    "    normal_test = pvalue_test > 0.05\n",
    "\n",
    "    if normal_control and normal_test:\n",
    "        # Both groups have normal distribution, check for homogeneity of variances\n",
    "        test_stat, pvalue_levene = levene(dataframe.loc[dataframe[group] == control, target],\n",
    "                                  dataframe.loc[dataframe[group] == test, target])\n",
    "        if pvalue_levene > 0.05:\n",
    "            # Variances are equal\n",
    "            test_stat, pvalue = ttest_ind(dataframe.loc[dataframe[group] == control, target],\n",
    "                                  dataframe.loc[dataframe[group] == test, target], equal_var=True)\n",
    "        else:\n",
    "            # Variances are not equal\n",
    "            test_stat, pvalue = ttest_ind(dataframe.loc[dataframe[group] == control, target],\n",
    "                                  dataframe.loc[dataframe[group] == test, target], equal_var=False)\n",
    "            print(\"Variances are not equal, used Welch's t-test\")\n",
    "    else:\n",
    "        # Non-parametric test (Mann-Whitney U test)\n",
    "        test_stat, pvalue = mannwhitneyu(dataframe.loc[dataframe[group] == control, target],\n",
    "                                 dataframe.loc[dataframe[group] == test, target])\n",
    "\n",
    "    # Interpret the results\n",
    "    if pvalue > 0.05:\n",
    "        print(f\"There is no statistically significant difference in {target} between {control} and {test}\")\n",
    "    else:\n",
    "        print(f\"There is a statistically significant difference in {target} between {control} and {test}\")\n",
    "    print(f'Test Statistic = {test_stat: .4f}, p-value = {pvalue: .4f}')\n",
    "\n",
    "\n",
    "ab_test(df_new, \"version\", \"gate_30\", \"gate_40\", \"sum_gamerounds\")"
   ]
  },
  {
   "cell_type": "code",
   "execution_count": 13,
   "id": "f8312069-3540-49c6-be07-ad9b1b5075a5",
   "metadata": {},
   "outputs": [
    {
     "name": "stdout",
     "output_type": "stream",
     "text": [
      "There is no statistically significant difference in retention_1 between gate_30 and gate_40\n",
      "Test Statistic =  1022682813.0000, p-value =  0.0744\n"
     ]
    }
   ],
   "source": [
    "ab_test(df_new, \"version\", \"gate_30\", \"gate_40\", \"retention_1\")\n"
   ]
  },
  {
   "cell_type": "code",
   "execution_count": 14,
   "id": "adf1ae91-8c18-40d9-b27f-6a2483120fed",
   "metadata": {
    "tags": []
   },
   "outputs": [
    {
     "name": "stdout",
     "output_type": "stream",
     "text": [
      "There is a statistically significant difference in retention_7 between gate_30 and gate_40\n",
      "Test Statistic =  1025017239.0000, p-value =  0.0016\n"
     ]
    }
   ],
   "source": [
    "ab_test(df_new, \"version\", \"gate_30\", \"gate_40\", \"retention_7\")\n"
   ]
  },
  {
   "cell_type": "code",
   "execution_count": 15,
   "id": "16dc90eb-bea9-4540-9f7b-b4eb5b561190",
   "metadata": {
    "tags": []
   },
   "outputs": [
    {
     "data": {
      "text/html": [
       "<div>\n",
       "<style scoped>\n",
       "    .dataframe tbody tr th:only-of-type {\n",
       "        vertical-align: middle;\n",
       "    }\n",
       "\n",
       "    .dataframe tbody tr th {\n",
       "        vertical-align: top;\n",
       "    }\n",
       "\n",
       "    .dataframe thead th {\n",
       "        text-align: right;\n",
       "    }\n",
       "</style>\n",
       "<table border=\"1\" class=\"dataframe\">\n",
       "  <thead>\n",
       "    <tr style=\"text-align: right;\">\n",
       "      <th></th>\n",
       "      <th>retention_1</th>\n",
       "      <th>retention_7</th>\n",
       "    </tr>\n",
       "    <tr>\n",
       "      <th>version</th>\n",
       "      <th></th>\n",
       "      <th></th>\n",
       "    </tr>\n",
       "  </thead>\n",
       "  <tbody>\n",
       "    <tr>\n",
       "      <th>gate_30</th>\n",
       "      <td>0.44819</td>\n",
       "      <td>0.19020</td>\n",
       "    </tr>\n",
       "    <tr>\n",
       "      <th>gate_40</th>\n",
       "      <td>0.44228</td>\n",
       "      <td>0.18200</td>\n",
       "    </tr>\n",
       "  </tbody>\n",
       "</table>\n",
       "</div>"
      ],
      "text/plain": [
       "         retention_1  retention_7\n",
       "version                          \n",
       "gate_30      0.44819      0.19020\n",
       "gate_40      0.44228      0.18200"
      ]
     },
     "execution_count": 15,
     "metadata": {},
     "output_type": "execute_result"
    }
   ],
   "source": [
    "df_new.groupby(\"version\").agg({\"retention_1\":\"mean\",\"retention_7\":\"mean\"})\n"
   ]
  },
  {
   "cell_type": "markdown",
   "id": "84ce53e6-cd4c-49ed-9076-667ce3397a6d",
   "metadata": {},
   "source": [
    "Bootstrapping is a technique where you sample from your data with replacement."
   ]
  },
  {
   "cell_type": "code",
   "execution_count": 16,
   "id": "a7f5e85c-f8f0-4983-9d16-1b00486c08a8",
   "metadata": {
    "tags": []
   },
   "outputs": [
    {
     "name": "stdout",
     "output_type": "stream",
     "text": [
      "Probability that 1-day retention is greater when the gate is at level 30: 0.966\n",
      "Probability that 7-day retention is greater when the gate is at level 30: 0.999\n"
     ]
    }
   ],
   "source": [
    "def bootstrap_means(data, column, num_samples=1000):\n",
    "    means = []\n",
    "    for i in range(num_samples):\n",
    "        bootstrap_sample = np.random.choice(data[column], len(data), replace=True)\n",
    "        means.append(np.mean(bootstrap_sample))\n",
    "    return means\n",
    "\n",
    "# Perform bootstrapping for retention_1 and retention_7 for gate_30\n",
    "bootstrapped_means_1_gate_30 = bootstrap_means(df_gate_30, 'retention_1')\n",
    "bootstrapped_means_7_gate_30 = bootstrap_means(df_gate_30, 'retention_7')\n",
    "\n",
    "# Perform bootstrapping for retention_1 and retention_7 for gate_40\n",
    "bootstrapped_means_1_gate_40 = bootstrap_means(df_gate_40, 'retention_1')\n",
    "bootstrapped_means_7_gate_40 = bootstrap_means(df_gate_40, 'retention_7')\n",
    "\n",
    "# Calculate the probabilities\n",
    "prob_1day_gate_30_greater = np.mean(np.array(bootstrapped_means_1_gate_30) > np.array(bootstrapped_means_1_gate_40))\n",
    "prob_7day_gate_30_greater = np.mean(np.array(bootstrapped_means_7_gate_30) > np.array(bootstrapped_means_7_gate_40))\n",
    "\n",
    "# Print the probabilities\n",
    "print(\"Probability that 1-day retention is greater when the gate is at level 30:\", prob_1day_gate_30_greater)\n",
    "print(\"Probability that 7-day retention is greater when the gate is at level 30:\", prob_7day_gate_30_greater)"
   ]
  },
  {
   "cell_type": "code",
   "execution_count": 17,
   "id": "ed19db6b-98b0-494a-8aef-ed25140b84d6",
   "metadata": {
    "tags": []
   },
   "outputs": [
    {
     "data": {
      "image/png": "[encoded data removed]",
      "text/plain": [
       "<Figure size 1200x600 with 1 Axes>"
      ]
     },
     "metadata": {},
     "output_type": "display_data"
    }
   ],
   "source": [
    "plt.figure(figsize=(12, 6))\n",
    "plt.hist(bootstrapped_means_7_gate_30, bins=30, alpha=0.5, label='Gate 30')\n",
    "plt.hist(bootstrapped_means_7_gate_40, bins=30, alpha=0.5, label='Gate 40')\n",
    "plt.title('Bootstrapped Distribution of 7-day Retention Means')\n",
    "plt.xlabel('Mean 7-day Retention')\n",
    "plt.ylabel('Frequency')\n",
    "plt.legend()\n",
    "plt.show()"
   ]
  },
  {
   "cell_type": "markdown",
   "id": "56f2bc39-a503-431e-9e3c-52f46e454a17",
   "metadata": {},
   "source": [
    "Bootstrap and A/B Testing: A Comparison for Retention Rate Analysis\n",
    "\n",
    "When analyzing the 1-day and 7-day retention rates between gate_30 and gate_40, Bootstrap and A/B testing provide different but complementary insights.\n",
    "\n",
    "Bootstrap Analysis Results:\n",
    "\n",
    "Bootstrap analysis shows that gate_30 has a higher 1-day retention rate compared to gate_40 with a confidence of 96.85%. Similarly, for the 7-day retention rate, gate_30 also outperforms gate_40 with a confidence level of 99.85%. These results suggest that gate_30 is more effective in retaining users for both short-term and long-term periods.\n",
    "\n",
    "A/B Test Results:\n",
    "\n",
    "The A/B test results indicate no statistically significant difference between gate_30 and gate_40 for the 1-day retention rate, with a p-value of 0.0744. This implies that, in terms of short-term retention, there is no meaningful difference between the two gates. However, for the 7-day retention rate, the A/B test does show a statistically significant difference (p-value = 0.0016), with gate_30 outperforming gate_40 in retaining users over a longer period.\n",
    "\n",
    "Comparative Insights:\n",
    "\n",
    "Short-Term (1-Day) Retention Rate: The A/B test suggests there is no significant difference between the short-term retention rates of gate_30 and gate_40. However, the bootstrap analysis indicates that gate_30 might have a slight edge. The p-value of 0.0744 is close to the conventional significance threshold of 0.05, which may suggest some practical relevance to the difference.\n",
    "\n",
    "Long-Term (7-Day) Retention Rate: Both the bootstrap analysis and A/B testing align in showing that gate_30 has a superior long-term retention rate compared to gate_40. The statistically significant difference found in the A/B test supports the robustness of this conclusion.\n",
    "\n",
    "Recommendation:\n",
    "\n",
    "To improve long-term user retention, adopting gate_30 over gate_40 is advisable. While there is no significant difference in short-term retention between the two versions, gate_30 might still offer a slight advantage. Decisions should also consider other factors such as user experience, gameplay, and additional business metrics."
   ]
  },
  {
   "cell_type": "code",
   "execution_count": null,
   "id": "78922c0e-710a-41a2-954f-79b02fe31d58",
   "metadata": {},
   "outputs": [],
   "source": []
  }
 ],
 "metadata": {
  "kernelspec": {
   "display_name": "Python 3 (ipykernel)",
   "language": "python",
   "name": "python3"
  },
  "language_info": {
   "codemirror_mode": {
    "name": "ipython",
    "version": 3
   },
   "file_extension": ".py",
   "mimetype": "text/x-python",
   "name": "python",
   "nbconvert_exporter": "python",
   "pygments_lexer": "ipython3",
   "version": "3.11.5"
  }
 },
 "nbformat": 4,
 "nbformat_minor": 5
}
